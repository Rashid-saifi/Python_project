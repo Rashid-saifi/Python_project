{
 "cells": [
  {
   "cell_type": "code",
   "execution_count": 2,
   "id": "1d285eb5-c8fb-4bbc-9a4f-d4cd90c1c030",
   "metadata": {},
   "outputs": [],
   "source": [
    "import pandas as pd\n",
    "import numpy as np \n",
    "import  matplotlib.pyplot as plt\n",
    "import seaborn as sns\n",
    "import math"
   ]
  },
  {
   "cell_type": "code",
   "execution_count": 3,
   "id": "dd3b1e6d-6189-4bc8-8db7-fbdb406ade81",
   "metadata": {},
   "outputs": [],
   "source": [
    "#import ipl_dataset from csv file into pandas\n",
    "df=pd.read_csv(r\"D:\\IPL Dataset-1.csv\")"
   ]
  },
  {
   "cell_type": "code",
   "execution_count": 4,
   "id": "19b65d07-86bc-4418-b528-186a97044e89",
   "metadata": {},
   "outputs": [],
   "source": [
    "import  matplotlib.pyplot as plt"
   ]
  },
  {
   "cell_type": "code",
   "execution_count": 5,
   "id": "1f94816a-09b6-468a-843e-2caebf55454c",
   "metadata": {},
   "outputs": [
    {
     "data": {
      "text/html": [
       "<div>\n",
       "<style scoped>\n",
       "    .dataframe tbody tr th:only-of-type {\n",
       "        vertical-align: middle;\n",
       "    }\n",
       "\n",
       "    .dataframe tbody tr th {\n",
       "        vertical-align: top;\n",
       "    }\n",
       "\n",
       "    .dataframe thead th {\n",
       "        text-align: right;\n",
       "    }\n",
       "</style>\n",
       "<table border=\"1\" class=\"dataframe\">\n",
       "  <thead>\n",
       "    <tr style=\"text-align: right;\">\n",
       "      <th></th>\n",
       "      <th>match_id</th>\n",
       "      <th>season</th>\n",
       "      <th>start_date</th>\n",
       "      <th>venue</th>\n",
       "      <th>innings</th>\n",
       "      <th>ball</th>\n",
       "      <th>batting_team</th>\n",
       "      <th>bowling_team</th>\n",
       "      <th>striker</th>\n",
       "      <th>non_striker</th>\n",
       "      <th>...</th>\n",
       "      <th>runs_off_bat</th>\n",
       "      <th>extras</th>\n",
       "      <th>wides</th>\n",
       "      <th>noballs</th>\n",
       "      <th>byes</th>\n",
       "      <th>legbyes</th>\n",
       "      <th>wicket_type</th>\n",
       "      <th>player_dismissed</th>\n",
       "      <th>run</th>\n",
       "      <th>over</th>\n",
       "    </tr>\n",
       "  </thead>\n",
       "  <tbody>\n",
       "    <tr>\n",
       "      <th>0</th>\n",
       "      <td>335982</td>\n",
       "      <td>2008</td>\n",
       "      <td>2008-04-18</td>\n",
       "      <td>M.Chinnaswamy Stadium</td>\n",
       "      <td>1</td>\n",
       "      <td>0.1</td>\n",
       "      <td>Kolkata Knight Riders</td>\n",
       "      <td>Royal Challengers Bangalore</td>\n",
       "      <td>SC Ganguly</td>\n",
       "      <td>BB McCullum</td>\n",
       "      <td>...</td>\n",
       "      <td>0</td>\n",
       "      <td>1</td>\n",
       "      <td>0.0</td>\n",
       "      <td>0.0</td>\n",
       "      <td>0.0</td>\n",
       "      <td>1.0</td>\n",
       "      <td></td>\n",
       "      <td></td>\n",
       "      <td>1</td>\n",
       "      <td>0</td>\n",
       "    </tr>\n",
       "    <tr>\n",
       "      <th>1</th>\n",
       "      <td>335982</td>\n",
       "      <td>2008</td>\n",
       "      <td>2008-04-18</td>\n",
       "      <td>M.Chinnaswamy Stadium</td>\n",
       "      <td>1</td>\n",
       "      <td>0.2</td>\n",
       "      <td>Kolkata Knight Riders</td>\n",
       "      <td>Royal Challengers Bangalore</td>\n",
       "      <td>BB McCullum</td>\n",
       "      <td>SC Ganguly</td>\n",
       "      <td>...</td>\n",
       "      <td>0</td>\n",
       "      <td>0</td>\n",
       "      <td>0.0</td>\n",
       "      <td>0.0</td>\n",
       "      <td>0.0</td>\n",
       "      <td>0.0</td>\n",
       "      <td></td>\n",
       "      <td></td>\n",
       "      <td>0</td>\n",
       "      <td>0</td>\n",
       "    </tr>\n",
       "    <tr>\n",
       "      <th>2</th>\n",
       "      <td>335982</td>\n",
       "      <td>2008</td>\n",
       "      <td>2008-04-18</td>\n",
       "      <td>M.Chinnaswamy Stadium</td>\n",
       "      <td>1</td>\n",
       "      <td>0.3</td>\n",
       "      <td>Kolkata Knight Riders</td>\n",
       "      <td>Royal Challengers Bangalore</td>\n",
       "      <td>BB McCullum</td>\n",
       "      <td>SC Ganguly</td>\n",
       "      <td>...</td>\n",
       "      <td>0</td>\n",
       "      <td>1</td>\n",
       "      <td>1.0</td>\n",
       "      <td>0.0</td>\n",
       "      <td>0.0</td>\n",
       "      <td>0.0</td>\n",
       "      <td></td>\n",
       "      <td></td>\n",
       "      <td>1</td>\n",
       "      <td>0</td>\n",
       "    </tr>\n",
       "    <tr>\n",
       "      <th>3</th>\n",
       "      <td>335982</td>\n",
       "      <td>2008</td>\n",
       "      <td>2008-04-18</td>\n",
       "      <td>M.Chinnaswamy Stadium</td>\n",
       "      <td>1</td>\n",
       "      <td>0.4</td>\n",
       "      <td>Kolkata Knight Riders</td>\n",
       "      <td>Royal Challengers Bangalore</td>\n",
       "      <td>BB McCullum</td>\n",
       "      <td>SC Ganguly</td>\n",
       "      <td>...</td>\n",
       "      <td>0</td>\n",
       "      <td>0</td>\n",
       "      <td>0.0</td>\n",
       "      <td>0.0</td>\n",
       "      <td>0.0</td>\n",
       "      <td>0.0</td>\n",
       "      <td></td>\n",
       "      <td></td>\n",
       "      <td>0</td>\n",
       "      <td>0</td>\n",
       "    </tr>\n",
       "    <tr>\n",
       "      <th>4</th>\n",
       "      <td>335982</td>\n",
       "      <td>2008</td>\n",
       "      <td>2008-04-18</td>\n",
       "      <td>M.Chinnaswamy Stadium</td>\n",
       "      <td>1</td>\n",
       "      <td>0.5</td>\n",
       "      <td>Kolkata Knight Riders</td>\n",
       "      <td>Royal Challengers Bangalore</td>\n",
       "      <td>BB McCullum</td>\n",
       "      <td>SC Ganguly</td>\n",
       "      <td>...</td>\n",
       "      <td>0</td>\n",
       "      <td>0</td>\n",
       "      <td>0.0</td>\n",
       "      <td>0.0</td>\n",
       "      <td>0.0</td>\n",
       "      <td>0.0</td>\n",
       "      <td></td>\n",
       "      <td></td>\n",
       "      <td>0</td>\n",
       "      <td>0</td>\n",
       "    </tr>\n",
       "    <tr>\n",
       "      <th>...</th>\n",
       "      <td>...</td>\n",
       "      <td>...</td>\n",
       "      <td>...</td>\n",
       "      <td>...</td>\n",
       "      <td>...</td>\n",
       "      <td>...</td>\n",
       "      <td>...</td>\n",
       "      <td>...</td>\n",
       "      <td>...</td>\n",
       "      <td>...</td>\n",
       "      <td>...</td>\n",
       "      <td>...</td>\n",
       "      <td>...</td>\n",
       "      <td>...</td>\n",
       "      <td>...</td>\n",
       "      <td>...</td>\n",
       "      <td>...</td>\n",
       "      <td>...</td>\n",
       "      <td>...</td>\n",
       "      <td>...</td>\n",
       "      <td>...</td>\n",
       "    </tr>\n",
       "    <tr>\n",
       "      <th>194349</th>\n",
       "      <td>1254060</td>\n",
       "      <td>2021</td>\n",
       "      <td>2021-04-11</td>\n",
       "      <td>MA Chidambaram Stadium, Chepauk, Chennai</td>\n",
       "      <td>2</td>\n",
       "      <td>19.2</td>\n",
       "      <td>Sunrisers Hyderabad</td>\n",
       "      <td>Kolkata Knight Riders</td>\n",
       "      <td>Abdul Samad</td>\n",
       "      <td>MK Pandey</td>\n",
       "      <td>...</td>\n",
       "      <td>0</td>\n",
       "      <td>0</td>\n",
       "      <td>0.0</td>\n",
       "      <td>0.0</td>\n",
       "      <td>0.0</td>\n",
       "      <td>0.0</td>\n",
       "      <td></td>\n",
       "      <td></td>\n",
       "      <td>0</td>\n",
       "      <td>19</td>\n",
       "    </tr>\n",
       "    <tr>\n",
       "      <th>194350</th>\n",
       "      <td>1254060</td>\n",
       "      <td>2021</td>\n",
       "      <td>2021-04-11</td>\n",
       "      <td>MA Chidambaram Stadium, Chepauk, Chennai</td>\n",
       "      <td>2</td>\n",
       "      <td>19.3</td>\n",
       "      <td>Sunrisers Hyderabad</td>\n",
       "      <td>Kolkata Knight Riders</td>\n",
       "      <td>Abdul Samad</td>\n",
       "      <td>MK Pandey</td>\n",
       "      <td>...</td>\n",
       "      <td>1</td>\n",
       "      <td>0</td>\n",
       "      <td>0.0</td>\n",
       "      <td>0.0</td>\n",
       "      <td>0.0</td>\n",
       "      <td>0.0</td>\n",
       "      <td></td>\n",
       "      <td></td>\n",
       "      <td>1</td>\n",
       "      <td>19</td>\n",
       "    </tr>\n",
       "    <tr>\n",
       "      <th>194351</th>\n",
       "      <td>1254060</td>\n",
       "      <td>2021</td>\n",
       "      <td>2021-04-11</td>\n",
       "      <td>MA Chidambaram Stadium, Chepauk, Chennai</td>\n",
       "      <td>2</td>\n",
       "      <td>19.4</td>\n",
       "      <td>Sunrisers Hyderabad</td>\n",
       "      <td>Kolkata Knight Riders</td>\n",
       "      <td>MK Pandey</td>\n",
       "      <td>Abdul Samad</td>\n",
       "      <td>...</td>\n",
       "      <td>1</td>\n",
       "      <td>0</td>\n",
       "      <td>0.0</td>\n",
       "      <td>0.0</td>\n",
       "      <td>0.0</td>\n",
       "      <td>0.0</td>\n",
       "      <td></td>\n",
       "      <td></td>\n",
       "      <td>1</td>\n",
       "      <td>19</td>\n",
       "    </tr>\n",
       "    <tr>\n",
       "      <th>194352</th>\n",
       "      <td>1254060</td>\n",
       "      <td>2021</td>\n",
       "      <td>2021-04-11</td>\n",
       "      <td>MA Chidambaram Stadium, Chepauk, Chennai</td>\n",
       "      <td>2</td>\n",
       "      <td>19.5</td>\n",
       "      <td>Sunrisers Hyderabad</td>\n",
       "      <td>Kolkata Knight Riders</td>\n",
       "      <td>Abdul Samad</td>\n",
       "      <td>MK Pandey</td>\n",
       "      <td>...</td>\n",
       "      <td>1</td>\n",
       "      <td>0</td>\n",
       "      <td>0.0</td>\n",
       "      <td>0.0</td>\n",
       "      <td>0.0</td>\n",
       "      <td>0.0</td>\n",
       "      <td></td>\n",
       "      <td></td>\n",
       "      <td>1</td>\n",
       "      <td>19</td>\n",
       "    </tr>\n",
       "    <tr>\n",
       "      <th>194353</th>\n",
       "      <td>1254060</td>\n",
       "      <td>2021</td>\n",
       "      <td>2021-04-11</td>\n",
       "      <td>MA Chidambaram Stadium, Chepauk, Chennai</td>\n",
       "      <td>2</td>\n",
       "      <td>19.6</td>\n",
       "      <td>Sunrisers Hyderabad</td>\n",
       "      <td>Kolkata Knight Riders</td>\n",
       "      <td>MK Pandey</td>\n",
       "      <td>Abdul Samad</td>\n",
       "      <td>...</td>\n",
       "      <td>6</td>\n",
       "      <td>0</td>\n",
       "      <td>0.0</td>\n",
       "      <td>0.0</td>\n",
       "      <td>0.0</td>\n",
       "      <td>0.0</td>\n",
       "      <td></td>\n",
       "      <td></td>\n",
       "      <td>6</td>\n",
       "      <td>19</td>\n",
       "    </tr>\n",
       "  </tbody>\n",
       "</table>\n",
       "<p>194354 rows × 21 columns</p>\n",
       "</div>"
      ],
      "text/plain": [
       "        match_id  season  start_date  \\\n",
       "0         335982    2008  2008-04-18   \n",
       "1         335982    2008  2008-04-18   \n",
       "2         335982    2008  2008-04-18   \n",
       "3         335982    2008  2008-04-18   \n",
       "4         335982    2008  2008-04-18   \n",
       "...          ...     ...         ...   \n",
       "194349   1254060    2021  2021-04-11   \n",
       "194350   1254060    2021  2021-04-11   \n",
       "194351   1254060    2021  2021-04-11   \n",
       "194352   1254060    2021  2021-04-11   \n",
       "194353   1254060    2021  2021-04-11   \n",
       "\n",
       "                                           venue  innings  ball  \\\n",
       "0                          M.Chinnaswamy Stadium        1   0.1   \n",
       "1                          M.Chinnaswamy Stadium        1   0.2   \n",
       "2                          M.Chinnaswamy Stadium        1   0.3   \n",
       "3                          M.Chinnaswamy Stadium        1   0.4   \n",
       "4                          M.Chinnaswamy Stadium        1   0.5   \n",
       "...                                          ...      ...   ...   \n",
       "194349  MA Chidambaram Stadium, Chepauk, Chennai        2  19.2   \n",
       "194350  MA Chidambaram Stadium, Chepauk, Chennai        2  19.3   \n",
       "194351  MA Chidambaram Stadium, Chepauk, Chennai        2  19.4   \n",
       "194352  MA Chidambaram Stadium, Chepauk, Chennai        2  19.5   \n",
       "194353  MA Chidambaram Stadium, Chepauk, Chennai        2  19.6   \n",
       "\n",
       "                 batting_team                 bowling_team      striker  \\\n",
       "0       Kolkata Knight Riders  Royal Challengers Bangalore   SC Ganguly   \n",
       "1       Kolkata Knight Riders  Royal Challengers Bangalore  BB McCullum   \n",
       "2       Kolkata Knight Riders  Royal Challengers Bangalore  BB McCullum   \n",
       "3       Kolkata Knight Riders  Royal Challengers Bangalore  BB McCullum   \n",
       "4       Kolkata Knight Riders  Royal Challengers Bangalore  BB McCullum   \n",
       "...                       ...                          ...          ...   \n",
       "194349    Sunrisers Hyderabad        Kolkata Knight Riders  Abdul Samad   \n",
       "194350    Sunrisers Hyderabad        Kolkata Knight Riders  Abdul Samad   \n",
       "194351    Sunrisers Hyderabad        Kolkata Knight Riders    MK Pandey   \n",
       "194352    Sunrisers Hyderabad        Kolkata Knight Riders  Abdul Samad   \n",
       "194353    Sunrisers Hyderabad        Kolkata Knight Riders    MK Pandey   \n",
       "\n",
       "        non_striker  ... runs_off_bat  extras  wides  noballs  byes  legbyes  \\\n",
       "0       BB McCullum  ...            0       1    0.0      0.0   0.0      1.0   \n",
       "1        SC Ganguly  ...            0       0    0.0      0.0   0.0      0.0   \n",
       "2        SC Ganguly  ...            0       1    1.0      0.0   0.0      0.0   \n",
       "3        SC Ganguly  ...            0       0    0.0      0.0   0.0      0.0   \n",
       "4        SC Ganguly  ...            0       0    0.0      0.0   0.0      0.0   \n",
       "...             ...  ...          ...     ...    ...      ...   ...      ...   \n",
       "194349    MK Pandey  ...            0       0    0.0      0.0   0.0      0.0   \n",
       "194350    MK Pandey  ...            1       0    0.0      0.0   0.0      0.0   \n",
       "194351  Abdul Samad  ...            1       0    0.0      0.0   0.0      0.0   \n",
       "194352    MK Pandey  ...            1       0    0.0      0.0   0.0      0.0   \n",
       "194353  Abdul Samad  ...            6       0    0.0      0.0   0.0      0.0   \n",
       "\n",
       "        wicket_type player_dismissed run  over  \n",
       "0                                      1     0  \n",
       "1                                      0     0  \n",
       "2                                      1     0  \n",
       "3                                      0     0  \n",
       "4                                      0     0  \n",
       "...             ...              ...  ..   ...  \n",
       "194349                                 0    19  \n",
       "194350                                 1    19  \n",
       "194351                                 1    19  \n",
       "194352                                 1    19  \n",
       "194353                                 6    19  \n",
       "\n",
       "[194354 rows x 21 columns]"
      ]
     },
     "execution_count": 5,
     "metadata": {},
     "output_type": "execute_result"
    }
   ],
   "source": [
    "#About ipl_dataset\n",
    "df"
   ]
  },
  {
   "cell_type": "code",
   "execution_count": 6,
   "id": "3a2c2811-bc12-4498-a9ae-092b83357ce2",
   "metadata": {},
   "outputs": [
    {
     "data": {
      "text/plain": [
       "array([2008, 2009, 2010, 2011, 2012, 2013, 2014, 2015, 2016, 2017, 2019,\n",
       "       2018, 2020, 2021], dtype=int64)"
      ]
     },
     "execution_count": 6,
     "metadata": {},
     "output_type": "execute_result"
    }
   ],
   "source": [
    "#ipl season \n",
    "df[\"season\"].unique()"
   ]
  },
  {
   "cell_type": "code",
   "execution_count": 7,
   "id": "e7852be8-381d-435f-8e3a-f7ca20388044",
   "metadata": {},
   "outputs": [
    {
     "data": {
      "text/plain": [
       "254126"
      ]
     },
     "execution_count": 7,
     "metadata": {},
     "output_type": "execute_result"
    }
   ],
   "source": [
    "#Total number of run in ipl 2008-20\n",
    "df['run'].sum()"
   ]
  },
  {
   "cell_type": "code",
   "execution_count": 8,
   "id": "1ad313ec-8e17-4316-b676-804e759ee067",
   "metadata": {},
   "outputs": [
    {
     "data": {
      "text/plain": [
       "match_id                                 335982\n",
       "season                                     2008\n",
       "start_date                           2008-04-18\n",
       "venue                     M.Chinnaswamy Stadium\n",
       "innings                                       1\n",
       "ball                                        0.1\n",
       "batting_team              Kolkata Knight Riders\n",
       "bowling_team        Royal Challengers Bangalore\n",
       "striker                              SC Ganguly\n",
       "non_striker                         BB McCullum\n",
       "bowler                                  P Kumar\n",
       "runs_off_bat                                  0\n",
       "extras                                        1\n",
       "wides                                       0.0\n",
       "noballs                                     0.0\n",
       "byes                                        0.0\n",
       "legbyes                                     1.0\n",
       "wicket_type                                    \n",
       "player_dismissed                               \n",
       "run                                           1\n",
       "over                                          0\n",
       "Name: 0, dtype: object"
      ]
     },
     "execution_count": 8,
     "metadata": {},
     "output_type": "execute_result"
    }
   ],
   "source": [
    "#\n",
    "df.iloc[0]"
   ]
  },
  {
   "cell_type": "code",
   "execution_count": 13,
   "id": "c5726d54-42e2-4f6e-ada2-1d9d8d49aa01",
   "metadata": {},
   "outputs": [
    {
     "data": {
      "text/plain": [
       "<Axes: xlabel='count', ylabel='season'>"
      ]
     },
     "execution_count": 13,
     "metadata": {},
     "output_type": "execute_result"
    },
    {
     "data": {
      "image/png": "[encoded data removed]",
      "text/plain": [
       "<Figure size 640x480 with 1 Axes>"
      ]
     },
     "metadata": {},
     "output_type": "display_data"
    }
   ],
   "source": [
    "#number of matches played in season \n",
    "import  matplotlib as plt\n",
    "# plt.figure(figsize=(10,8))\n",
    "data=df.groupby(['match_id','season']).count().index.droplevel(level=0).value_counts().sort_index()\n",
    "sns.barplot(y=data.index,x=data,orient='h')\n",
    "# plt.xlabel('matches played')\n",
    "# plt.ylabel('season')\n",
    "# plt.show()"
   ]
  },
  {
   "cell_type": "code",
   "execution_count": null,
   "id": "dba069ca-ec53-45a4-ab12-9aefec45f1d8",
   "metadata": {},
   "outputs": [],
   "source": [
    "# most ipl matches playes in a vanue\n",
    "a=df.groupby(['venue','match_id']).count().droplevel(level=1).index.value_counts().head(10)\n",
    "sns.barplot(y=a.index,x=a,orient='h')\n",
    "a"
   ]
  },
  {
   "cell_type": "code",
   "execution_count": 1,
   "id": "29596c46-1962-4482-8f8c-2478596fa781",
   "metadata": {},
   "outputs": [
    {
     "ename": "NameError",
     "evalue": "name 'df' is not defined",
     "output_type": "error",
     "traceback": [
      "\u001b[1;31m---------------------------------------------------------------------------\u001b[0m",
      "\u001b[1;31mNameError\u001b[0m                                 Traceback (most recent call last)",
      "Cell \u001b[1;32mIn[1], line 2\u001b[0m\n\u001b[0;32m      1\u001b[0m \u001b[38;5;66;03m# most ipl matches played by each team \u001b[39;00m\n\u001b[1;32m----> 2\u001b[0m data\u001b[38;5;241m=\u001b[39m\u001b[43mdf\u001b[49m[\u001b[38;5;124m'\u001b[39m\u001b[38;5;124mbowling_team\u001b[39m\u001b[38;5;124m'\u001b[39m]\u001b[38;5;241m.\u001b[39mvalue_counts()\u001b[38;5;241m.\u001b[39msort_values(ascending\u001b[38;5;241m=\u001b[39m\u001b[38;5;28;01mFalse\u001b[39;00m)\n\u001b[0;32m      3\u001b[0m sns\u001b[38;5;241m.\u001b[39mbarplot(y\u001b[38;5;241m=\u001b[39mdata\u001b[38;5;241m.\u001b[39mindex,x\u001b[38;5;241m=\u001b[39mdata,orient\u001b[38;5;241m=\u001b[39m\u001b[38;5;124m'\u001b[39m\u001b[38;5;124mh\u001b[39m\u001b[38;5;124m'\u001b[39m)\n\u001b[0;32m      4\u001b[0m plt\u001b[38;5;241m.\u001b[39mxlabels(\u001b[38;5;124m'\u001b[39m\u001b[38;5;124mMatches\u001b[39m\u001b[38;5;124m'\u001b[39m)\n",
      "\u001b[1;31mNameError\u001b[0m: name 'df' is not defined"
     ]
    }
   ],
   "source": [
    "# most ipl matches played by each team \n",
    "data=df['bowling_team'].value_counts().sort_values(ascending=False)\n",
    "sns.barplot(y=data.index,x=data,orient='h')\n",
    "plt.xlabels('Matches')\n",
    "plt.ylabels('Teams')\n",
    "plt.show()"
   ]
  },
  {
   "cell_type": "code",
   "execution_count": 25,
   "id": "989dd337-b455-40d6-8510-5afc90c1ae6c",
   "metadata": {},
   "outputs": [
    {
     "data": {
      "text/plain": [
       "batting_team\n",
       "Mumbai Indians                 32488\n",
       "Royal Challengers Bangalore    30415\n",
       "Kings XI Punjab                30064\n",
       "Kolkata Knight Riders          29606\n",
       "Chennai Super Kings            28560\n",
       "Rajasthan Royals               24542\n",
       "Delhi Daredevils               24296\n",
       "Sunrisers Hyderabad            19539\n",
       "Deccan Chargers                11463\n",
       "Pune Warriors                   6358\n",
       "Delhi Capitals                  5499\n",
       "Gujarat Lions                   4862\n",
       "Rising Pune Supergiant          4533\n",
       "Kochi Tuskers Kerala            1901\n",
       "Name: run, dtype: int64"
      ]
     },
     "execution_count": 25,
     "metadata": {},
     "output_type": "execute_result"
    }
   ],
   "source": [
    "# most run scored by ipl teams\n",
    "df.groupby(['batting_team'])['run'].sum().sort_values(ascending=False)"
   ]
  },
  {
   "cell_type": "code",
   "execution_count": 27,
   "id": "8b1e09d2-f3d6-4b0d-bb61-1b942d9eaf38",
   "metadata": {},
   "outputs": [
    {
     "ename": "AttributeError",
     "evalue": "module 'matplotlib' has no attribute 'xlabel'",
     "output_type": "error",
     "traceback": [
      "\u001b[1;31m---------------------------------------------------------------------------\u001b[0m",
      "\u001b[1;31mAttributeError\u001b[0m                            Traceback (most recent call last)",
      "Cell \u001b[1;32mIn[27], line 5\u001b[0m\n\u001b[0;32m      3\u001b[0m dataa\u001b[38;5;241m=\u001b[39mdf\u001b[38;5;241m.\u001b[39mgroupby([\u001b[38;5;124m'\u001b[39m\u001b[38;5;124mstriker\u001b[39m\u001b[38;5;124m'\u001b[39m])[\u001b[38;5;124m'\u001b[39m\u001b[38;5;124mruns_off_bat\u001b[39m\u001b[38;5;124m'\u001b[39m]\u001b[38;5;241m.\u001b[39msum()\u001b[38;5;241m.\u001b[39msort_values(ascending\u001b[38;5;241m=\u001b[39m\u001b[38;5;28;01mFalse\u001b[39;00m)[:\u001b[38;5;241m10\u001b[39m]\n\u001b[0;32m      4\u001b[0m sns\u001b[38;5;241m.\u001b[39mbarplot(y\u001b[38;5;241m=\u001b[39mdataa\u001b[38;5;241m.\u001b[39mindex,x\u001b[38;5;241m=\u001b[39mdataa,orient\u001b[38;5;241m=\u001b[39m\u001b[38;5;124m'\u001b[39m\u001b[38;5;124mh\u001b[39m\u001b[38;5;124m'\u001b[39m)\n\u001b[1;32m----> 5\u001b[0m \u001b[43mplt\u001b[49m\u001b[38;5;241;43m.\u001b[39;49m\u001b[43mxlabel\u001b[49m(\u001b[38;5;124m'\u001b[39m\u001b[38;5;124mRuns\u001b[39m\u001b[38;5;124m'\u001b[39m)\n\u001b[0;32m      6\u001b[0m plt\u001b[38;5;241m.\u001b[39mylabel(\u001b[38;5;124m'\u001b[39m\u001b[38;5;124mBatsman\u001b[39m\u001b[38;5;124m'\u001b[39m)\n\u001b[0;32m      7\u001b[0m plt\u001b[38;5;241m.\u001b[39mshow()\n",
      "File \u001b[1;32mC:\\ProgramData\\anaconda3\\Lib\\site-packages\\matplotlib\\_api\\__init__.py:217\u001b[0m, in \u001b[0;36mcaching_module_getattr.<locals>.__getattr__\u001b[1;34m(name)\u001b[0m\n\u001b[0;32m    215\u001b[0m \u001b[38;5;28;01mif\u001b[39;00m name \u001b[38;5;129;01min\u001b[39;00m props:\n\u001b[0;32m    216\u001b[0m     \u001b[38;5;28;01mreturn\u001b[39;00m props[name]\u001b[38;5;241m.\u001b[39m\u001b[38;5;21m__get__\u001b[39m(instance)\n\u001b[1;32m--> 217\u001b[0m \u001b[38;5;28;01mraise\u001b[39;00m \u001b[38;5;167;01mAttributeError\u001b[39;00m(\n\u001b[0;32m    218\u001b[0m     \u001b[38;5;124mf\u001b[39m\u001b[38;5;124m\"\u001b[39m\u001b[38;5;124mmodule \u001b[39m\u001b[38;5;132;01m{\u001b[39;00m\u001b[38;5;28mcls\u001b[39m\u001b[38;5;241m.\u001b[39m\u001b[38;5;18m__module__\u001b[39m\u001b[38;5;132;01m!r}\u001b[39;00m\u001b[38;5;124m has no attribute \u001b[39m\u001b[38;5;132;01m{\u001b[39;00mname\u001b[38;5;132;01m!r}\u001b[39;00m\u001b[38;5;124m\"\u001b[39m)\n",
      "\u001b[1;31mAttributeError\u001b[0m: module 'matplotlib' has no attribute 'xlabel'"
     ]
    },
    {
     "data": {
      "image/png": "[encoded data removed]",
      "text/plain": [
       "<Figure size 640x480 with 1 Axes>"
      ]
     },
     "metadata": {},
     "output_type": "display_data"
    }
   ],
   "source": [
    "# most ipl runs  by a batsman\n",
    "# plt.figure(figsize=(10,5))\n",
    "dataa=df.groupby(['striker'])['runs_off_bat'].sum().sort_values(ascending=False)[:10]\n",
    "sns.barplot(y=dataa.index,x=dataa,orient='h')\n",
    "plt.xlabel('Runs')\n",
    "plt.ylabel('Batsman')\n",
    "plt.show()"
   ]
  },
  {
   "cell_type": "code",
   "execution_count": 28,
   "id": "2458a3aa-9d2e-41d7-9b03-cbc4eb9e664a",
   "metadata": {},
   "outputs": [
    {
     "data": {
      "text/plain": [
       "batting_team\n",
       "Delhi Capitals                 48.176471\n",
       "Sunrisers Hyderabad            47.856000\n",
       "Rising Pune Supergiant         47.433333\n",
       "Kings XI Punjab                47.126316\n",
       "Kolkata Knight Riders          46.409326\n",
       "Delhi Daredevils               45.714286\n",
       "Deccan Chargers                45.560000\n",
       "Mumbai Indians                 45.529412\n",
       "Chennai Super Kings            45.195531\n",
       "Rajasthan Royals               44.912500\n",
       "Royal Challengers Bangalore    44.826531\n",
       "Pune Warriors                  42.111111\n",
       "Name: run, dtype: float64"
      ]
     },
     "execution_count": 28,
     "metadata": {},
     "output_type": "execute_result"
    }
   ],
   "source": [
    "# average runs by teams in power_play \n",
    "df[df['over']<6].groupby(['match_id','batting_team']).sum()['run'].groupby('batting_team').mean().sort_values(ascending=False)[2:]"
   ]
  },
  {
   "cell_type": "code",
   "execution_count": 30,
   "id": "88bb2157-b240-4f45-af51-f7807dd77912",
   "metadata": {},
   "outputs": [
    {
     "data": {
      "text/plain": [
       "striker\n",
       "CH Gayle          6\n",
       "V Kohli           5\n",
       "DA Warner         4\n",
       "SR Watson         4\n",
       "AB de Villiers    3\n",
       "HM Amla           2\n",
       "M Vijay           2\n",
       "KL Rahul          2\n",
       "SV Samson         2\n",
       "S Dhawan          2\n",
       "Name: runs_off_bat, dtype: int64"
      ]
     },
     "execution_count": 30,
     "metadata": {},
     "output_type": "execute_result"
    },
    {
     "data": {
      "image/png": "[encoded data removed]",
      "text/plain": [
       "<Figure size 1000x500 with 1 Axes>"
      ]
     },
     "metadata": {},
     "output_type": "display_data"
    }
   ],
   "source": [
    "# most ipl century by a player\n",
    "\n",
    "runs=df.groupby(['striker','match_id'])['runs_off_bat'].sum()\n",
    "l=runs[runs>=100].droplevel(level=1).groupby('striker').count().sort_values(ascending=False)[:10]\n",
    "l.plot.bar(figsize=(10,5))\n",
    "l\n",
    "# plt.xlabel('Batsman')\n",
    "# plt.ylabel('Centuries')\n",
    "# plt.show()"
   ]
  },
  {
   "cell_type": "code",
   "execution_count": 34,
   "id": "7a9ea891-76cf-4128-b761-e65f7f966524",
   "metadata": {},
   "outputs": [
    {
     "data": {
      "text/plain": [
       "<Axes: xlabel='runs_off_bat', ylabel='striker'>"
      ]
     },
     "execution_count": 34,
     "metadata": {},
     "output_type": "execute_result"
    },
    {
     "data": {
      "image/png": "[encoded data removed]",
      "text/plain": [
       "<Figure size 640x480 with 1 Axes>"
      ]
     },
     "metadata": {},
     "output_type": "display_data"
    }
   ],
   "source": [
    "#most ipl fifty by a player\n",
    "# plt.figure(figsize=(10,8))\n",
    "runs=df.groupby(['striker','start_date'])['runs_off_bat'].sum()\n",
    "data=runs[runs>=50].droplevel(level=1).groupby('striker').count().sort_values(ascending=False)[:10]\n",
    "sns.barplot(y=data.index,x=data,orient='h')"
   ]
  },
  {
   "cell_type": "code",
   "execution_count": 39,
   "id": "df50e996-4bae-46ee-ab97-cba920a410f0",
   "metadata": {},
   "outputs": [
    {
     "data": {
      "text/plain": [
       "striker\n",
       "CH Gayle          6\n",
       "V Kohli           5\n",
       "DA Warner         4\n",
       "SR Watson         4\n",
       "AB de Villiers    3\n",
       "HM Amla           2\n",
       "M Vijay           2\n",
       "KL Rahul          2\n",
       "SV Samson         2\n",
       "S Dhawan          2\n",
       "Name: runs_off_bat, dtype: int64"
      ]
     },
     "execution_count": 39,
     "metadata": {},
     "output_type": "execute_result"
    },
    {
     "data": {
      "image/png": "[encoded data removed]",
      "text/plain": [
       "<Figure size 640x480 with 1 Axes>"
      ]
     },
     "metadata": {},
     "output_type": "display_data"
    }
   ],
   "source": [
    "#most ipl century by a player\n",
    "# plt.figure(figsize=(10,8))\n",
    "runs=df.groupby(['striker','start_date'])['runs_off_bat'].sum()\n",
    "data=runs[runs>=100].droplevel(level=1).groupby('striker').count().sort_values(ascending=False)[:10]\n",
    "\n",
    "sns.barplot(y=data.index,x=data,orient='h')\n",
    "data"
   ]
  },
  {
   "cell_type": "code",
   "execution_count": 49,
   "id": "70f3a740-8416-4aba-92b2-095cf83da3c2",
   "metadata": {
    "scrolled": true
   },
   "outputs": [
    {
     "data": {
      "text/plain": [
       "striker\n",
       "CH Gayle          17\n",
       "BB McCullum       13\n",
       "CH Gayle          13\n",
       "CH Gayle          12\n",
       "AB de Villiers    12\n",
       "M Vijay           11\n",
       "CH Gayle          11\n",
       "AD Russell        11\n",
       "ST Jayasuriya     11\n",
       "SS Iyer           10\n",
       "Name: season, dtype: int64"
      ]
     },
     "execution_count": 49,
     "metadata": {},
     "output_type": "execute_result"
    }
   ],
   "source": [
    "#most ipl sixes by a batsman\n",
    "df[df['runs_off_bat'] == 6].groupby(['start_date','striker']).count()['season'].sort_values(ascending=False).droplevel(level=0)[:10]"
   ]
  },
  {
   "cell_type": "code",
   "execution_count": 47,
   "id": "3d955dc1-1a14-4b25-bc0d-8b58bfab898e",
   "metadata": {},
   "outputs": [
    {
     "data": {
      "text/plain": [
       "striker\n",
       "PC Valthaty       19\n",
       "AB de Villiers    19\n",
       "MJ Lumb           16\n",
       "AM Rahane         16\n",
       "GJ Maxwell        15\n",
       "M Vijay           15\n",
       "RR Pant           15\n",
       "Q de Kock         15\n",
       "SS Iyer           15\n",
       "HM Amla           14\n",
       "Name: season, dtype: int64"
      ]
     },
     "execution_count": 47,
     "metadata": {},
     "output_type": "execute_result"
    }
   ],
   "source": [
    "#most ipl fours boundary by a batsman\n",
    "df[df['runs_off_bat'] == 4].groupby(['start_date','striker']).count()['season'].sort_values(ascending=False).droplevel(level=0)[:10]"
   ]
  },
  {
   "cell_type": "code",
   "execution_count": 50,
   "id": "b87fb5fd-8a2d-4d19-9afb-fdcfeebca185",
   "metadata": {},
   "outputs": [
    {
     "data": {
      "text/plain": [
       "striker\n",
       "S Dhawan          601\n",
       "DA Warner         510\n",
       "V Kohli           510\n",
       "SK Raina          496\n",
       "G Gambhir         492\n",
       "RG Sharma         459\n",
       "RV Uthappa        454\n",
       "AM Rahane         416\n",
       "AB de Villiers    395\n",
       "CH Gayle          387\n",
       "Name: count, dtype: int64"
      ]
     },
     "execution_count": 50,
     "metadata": {},
     "output_type": "execute_result"
    }
   ],
   "source": [
    "df[df['runs_off_bat'] == 4]['striker'].value_counts()[:10]"
   ]
  },
  {
   "cell_type": "code",
   "execution_count": 53,
   "id": "80409797-cf6e-4bed-a90f-a807691a8110",
   "metadata": {},
   "outputs": [
    {
     "data": {
      "text/plain": [
       "striker        season\n",
       "V Kohli        2016      973\n",
       "DA Warner      2016      848\n",
       "KS Williamson  2018      735\n",
       "MEK Hussey     2013      733\n",
       "CH Gayle       2012      733\n",
       "Name: runs_off_bat, dtype: int64"
      ]
     },
     "execution_count": 53,
     "metadata": {},
     "output_type": "execute_result"
    }
   ],
   "source": [
    "#most ipl runs in an ipl season by player\n",
    "df.groupby(['striker',\"season\"])[\"runs_off_bat\"].sum().sort_values(ascending=False)[:5]\n"
   ]
  },
  {
   "cell_type": "code",
   "execution_count": 56,
   "id": "fddeaf33-5204-46ee-9edb-ff20b531c8d5",
   "metadata": {},
   "outputs": [
    {
     "data": {
      "text/plain": [
       "season\n",
       "2018    872\n",
       "2019    786\n",
       "2020    736\n",
       "2012    733\n",
       "2014    715\n",
       "2017    706\n",
       "2015    692\n",
       "2013    681\n",
       "2011    639\n",
       "2016    639\n",
       "2008    623\n",
       "2010    587\n",
       "2009    508\n",
       "2021     43\n",
       "Name: match_id, dtype: int64"
      ]
     },
     "execution_count": 56,
     "metadata": {},
     "output_type": "execute_result"
    },
    {
     "data": {
      "image/png": "[encoded data removed]",
      "text/plain": [
       "<Figure size 640x480 with 1 Axes>"
      ]
     },
     "metadata": {},
     "output_type": "display_data"
    }
   ],
   "source": [
    "#number of sixes in an ipl season\n",
    "data=df[df['runs_off_bat']==6].groupby('season').count()['match_id'].sort_values(ascending=False)\n",
    "sns.barplot(y=data.index,x=data,orient='h')\n",
    "data"
   ]
  },
  {
   "cell_type": "code",
   "execution_count": 65,
   "id": "a0429cca-21c2-4154-b1b0-33d14e7f110b",
   "metadata": {},
   "outputs": [
    {
     "data": {
      "text/plain": [
       "batting_team\n",
       "Royal Challengers Bangalore    263\n",
       "Royal Challengers Bangalore    248\n",
       "Chennai Super Kings            246\n",
       "Kolkata Knight Riders          245\n",
       "Chennai Super Kings            240\n",
       "Royal Challengers Bangalore    235\n",
       "Kolkata Knight Riders          232\n",
       "Kings XI Punjab                232\n",
       "Delhi Daredevils               231\n",
       "Sunrisers Hyderabad            231\n",
       "Name: run, dtype: int64"
      ]
     },
     "execution_count": 65,
     "metadata": {},
     "output_type": "execute_result"
    }
   ],
   "source": [
    "# highest total by an ipl team\n",
    "df.groupby(['start_date','batting_team']).sum()['run'].droplevel(level=0).sort_values(ascending=False)[:10]"
   ]
  },
  {
   "cell_type": "code",
   "execution_count": 66,
   "id": "7e408477-9dd4-4615-a9eb-69221c6a7b94",
   "metadata": {},
   "outputs": [
    {
     "data": {
      "text/plain": [
       "striker\n",
       "CH Gayle          175\n",
       "BB McCullum       158\n",
       "AB de Villiers    133\n",
       "KL Rahul          132\n",
       "AB de Villiers    129\n",
       "CH Gayle          128\n",
       "RR Pant           128\n",
       "M Vijay           127\n",
       "DA Warner         126\n",
       "V Sehwag          122\n",
       "Name: runs_off_bat, dtype: int64"
      ]
     },
     "execution_count": 66,
     "metadata": {},
     "output_type": "execute_result"
    }
   ],
   "source": [
    "# highest score in ipl by a player \n",
    "df.groupby(['striker','start_date'])['runs_off_bat'].sum().droplevel(level=1).sort_values(ascending=False)[:10]"
   ]
  },
  {
   "cell_type": "code",
   "execution_count": 67,
   "id": "5c3932e1-cc19-44a0-a124-0aff8506f6d8",
   "metadata": {},
   "outputs": [
    {
     "data": {
      "text/plain": [
       "bowler\n",
       "Basil Thampi        70\n",
       "Sandeep Sharma      66\n",
       "Mujeeb Ur Rahman    66\n",
       "I Sharma            66\n",
       "PJ Cummins          65\n",
       "UT Yadav            65\n",
       "AS Rajpoot          64\n",
       "S Kaul              64\n",
       "AB Dinda            63\n",
       "TA Boult            63\n",
       "Name: run, dtype: int64"
      ]
     },
     "execution_count": 67,
     "metadata": {},
     "output_type": "execute_result"
    }
   ],
   "source": [
    "# most run conceded by a bowler in an inning\n",
    "df.groupby(['bowler','start_date'])['run'].sum().droplevel(level=1).sort_values(ascending=False)[:10]"
   ]
  },
  {
   "cell_type": "code",
   "execution_count": null,
   "id": "0a8aa944-5c5e-4398-aae9-e630ee6a35fd",
   "metadata": {},
   "outputs": [],
   "source": []
  },
  {
   "cell_type": "code",
   "execution_count": null,
   "id": "54f2e748-aa27-48c8-956f-72866dd39f14",
   "metadata": {},
   "outputs": [],
   "source": []
  },
  {
   "cell_type": "code",
   "execution_count": null,
   "id": "d218d808-1b39-46ad-9d06-0a8849731cc8",
   "metadata": {},
   "outputs": [],
   "source": []
  },
  {
   "cell_type": "code",
   "execution_count": 69,
   "id": "068afd17-06ae-4529-9696-e738362763d0",
   "metadata": {},
   "outputs": [
    {
     "data": {
      "text/plain": [
       "bowler\n",
       "Harbhajan Singh    1247\n",
       "R Ashwin           1174\n",
       "B Kumar            1165\n",
       "SL Malinga         1144\n",
       "PP Chawla          1137\n",
       "A Mishra           1129\n",
       "SP Narine          1100\n",
       "P Kumar            1075\n",
       "DW Steyn           1019\n",
       "UT Yadav            955\n",
       "Name: match_id, dtype: int64"
      ]
     },
     "execution_count": 69,
     "metadata": {},
     "output_type": "execute_result"
    },
    {
     "data": {
      "image/png": "[encoded data removed]",
      "text/plain": [
       "<Figure size 640x480 with 1 Axes>"
      ]
     },
     "metadata": {},
     "output_type": "display_data"
    }
   ],
   "source": [
    "#most dot balls by bowler\n",
    "data=df[df['run']==0].groupby('bowler').count()['match_id'].sort_values(ascending=False)[:10]\n",
    "sns.barplot(y=data.index,x=data,orient='h')\n",
    "# plt.xlabel('Dot balls')\n",
    "# plt.ylabel('Bowler')\n",
    "# plt.show()\n",
    "data"
   ]
  },
  {
   "cell_type": "code",
   "execution_count": null,
   "id": "4becce3f-fabf-4664-986e-3adf20c2ef36",
   "metadata": {},
   "outputs": [],
   "source": []
  },
  {
   "cell_type": "code",
   "execution_count": null,
   "id": "e2449373-cb6c-449c-9bc4-860cc755abd8",
   "metadata": {},
   "outputs": [],
   "source": []
  },
  {
   "cell_type": "code",
   "execution_count": null,
   "id": "955bd884-4c6b-4a3d-a6e2-9b1b408d0c09",
   "metadata": {},
   "outputs": [],
   "source": []
  },
  {
   "cell_type": "code",
   "execution_count": null,
   "id": "a323b270-b7fa-446e-8f2d-45e74fbeffb9",
   "metadata": {},
   "outputs": [],
   "source": []
  },
  {
   "cell_type": "code",
   "execution_count": null,
   "id": "1bd14459-87b9-4f01-b49e-869c823374ab",
   "metadata": {},
   "outputs": [],
   "source": []
  },
  {
   "cell_type": "code",
   "execution_count": null,
   "id": "d1732ddb-7194-438c-8847-a83bc77c993f",
   "metadata": {},
   "outputs": [],
   "source": []
  },
  {
   "cell_type": "code",
   "execution_count": null,
   "id": "7d54214c-7f3c-443f-bad4-5f27fea2f685",
   "metadata": {},
   "outputs": [],
   "source": []
  },
  {
   "cell_type": "code",
   "execution_count": null,
   "id": "7ff90da1-fa91-41b5-94b1-637947ab34a7",
   "metadata": {},
   "outputs": [],
   "source": []
  },
  {
   "cell_type": "code",
   "execution_count": null,
   "id": "e08c8e49-ebb2-4235-b8c4-7855791fb4c2",
   "metadata": {},
   "outputs": [],
   "source": []
  },
  {
   "cell_type": "code",
   "execution_count": null,
   "id": "c95358d7-85d0-4c56-919d-b32031454a3b",
   "metadata": {},
   "outputs": [],
   "source": []
  },
  {
   "cell_type": "code",
   "execution_count": null,
   "id": "1fc5ce86-1349-42f4-b8f4-ef22ada6558b",
   "metadata": {},
   "outputs": [],
   "source": []
  },
  {
   "cell_type": "code",
   "execution_count": null,
   "id": "4fe66c62-3d82-4811-ba2b-4d5c96cef0f7",
   "metadata": {},
   "outputs": [],
   "source": []
  }
 ],
 "metadata": {
  "kernelspec": {
   "display_name": "Python 3 (ipykernel)",
   "language": "python",
   "name": "python3"
  },
  "language_info": {
   "codemirror_mode": {
    "name": "ipython",
    "version": 3
   },
   "file_extension": ".py",
   "mimetype": "text/x-python",
   "name": "python",
   "nbconvert_exporter": "python",
   "pygments_lexer": "ipython3",
   "version": "3.12.7"
  }
 },
 "nbformat": 4,
 "nbformat_minor": 5
}
